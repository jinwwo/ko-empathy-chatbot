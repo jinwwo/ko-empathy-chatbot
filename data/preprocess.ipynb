{
 "cells": [
  {
   "cell_type": "code",
   "execution_count": 1,
   "metadata": {},
   "outputs": [],
   "source": [
    "import os\n",
    "import json\n",
    "from datasets import Dataset, DatasetDict\n",
    "import glob"
   ]
  },
  {
   "cell_type": "markdown",
   "metadata": {},
   "source": [
    "### Load dataset"
   ]
  },
  {
   "cell_type": "code",
   "execution_count": 3,
   "metadata": {},
   "outputs": [],
   "source": [
    "top_folder_path = './data/ko-coulpe-chat'\n",
    "subfolders = [f.path for f in os.scandir(top_folder_path) if f.is_dir()]"
   ]
  },
  {
   "cell_type": "markdown",
   "metadata": {},
   "source": [
    "### Preprocess\n",
    "- Extract utterances only\n",
    "- Convert to DatasetDict"
   ]
  },
  {
   "cell_type": "code",
   "execution_count": 4,
   "metadata": {},
   "outputs": [],
   "source": [
    "json_path_list = []\n",
    "\n",
    "train_data = {\n",
    "    'id': [],\n",
    "    'conversations': []\n",
    "}\n",
    "\n",
    "for subfolder in subfolders:    \n",
    "    json_files = glob.glob(os.path.join(subfolder, '*.json'))\n",
    "    json_path_list.extend(json_files)\n",
    "\n",
    "for json_path in json_path_list:\n",
    "    with open(json_path, 'r') as file:\n",
    "        data = json.load(file)\n",
    "\n",
    "        id = data['info']['id']\n",
    "        utterances = data['utterances']\n",
    "        utterances_filtered = [{'role': utter['role'], 'text': utter['text']} for utter in utterances]\n",
    "        data = {'id': id, 'conversations': utterances_filtered}\n",
    "\n",
    "        train_data['id'].append(data['id'])\n",
    "        train_data['conversations'].append(data['conversations'])\n",
    "        \n",
    "train_dataset = Dataset.from_dict(train_data)\n",
    "dataset = DatasetDict({\n",
    "    'train': train_dataset\n",
    "})"
   ]
  },
  {
   "cell_type": "code",
   "execution_count": 5,
   "metadata": {},
   "outputs": [
    {
     "data": {
      "text/plain": [
       "DatasetDict({\n",
       "    train: Dataset({\n",
       "        features: ['id', 'conversations'],\n",
       "        num_rows: 4100\n",
       "    })\n",
       "})"
      ]
     },
     "execution_count": 5,
     "metadata": {},
     "output_type": "execute_result"
    }
   ],
   "source": [
    "dataset"
   ]
  },
  {
   "cell_type": "markdown",
   "metadata": {},
   "source": [
    "### Sample"
   ]
  },
  {
   "cell_type": "code",
   "execution_count": 11,
   "metadata": {},
   "outputs": [
    {
     "data": {
      "text/plain": [
       "[{'role': 'speaker',\n",
       "  'text': '자기야, 자기가 예쁘다고 한 헤어스타일 말이야. 역시나 가족들은 내 머리 스타일이 바뀐 걸 모르네.'},\n",
       " {'role': 'listener', 'text': '뭐라고? 긴 생머리를 단발로 자르고 파마까지 했는데 어떻게 모른다는 거야?'},\n",
       " {'role': 'speaker',\n",
       "  'text': '내가 말했잖아. 우리 가족은 나한테 관심이 없다고. 그래도 내 말이 맞는 거에 이렇게 상처받을 줄이야.'},\n",
       " {'role': 'listener', 'text': '자기야, 듣는 내 마음이 너무 아프다. 얼마나 상처가 클지 상상도 못 하겠어.'},\n",
       " {'role': 'speaker',\n",
       "  'text': '내 쌍둥이 언니한테만 모든 관심이 기울어져 있어. 내가 집에 들어왔는지 나갔는지도 모를 거야.'},\n",
       " {'role': 'listener',\n",
       "  'text': '그렇게까지 생각하지 마. 자기가 너무 상처받은 건 알겠는데 그렇게 깊게 생각하면 자기 마음이 더 아플 거야.'},\n",
       " {'role': 'speaker', 'text': '하지만 사실인걸. 이렇게 머리 스타일이 극적으로 바뀌어도 모르는 것 봐.'},\n",
       " {'role': 'listener',\n",
       "  'text': '자기야, 그냥 이렇게 있을 게 아니라 머리 스타일을 바꿨다고 말해보는 게 어떨까? 가족들이 알 때까지 기다리는 게 아니라 먼저 말해보는 거야.'},\n",
       " {'role': 'speaker',\n",
       "  'text': '그렇게 엎드려 절 받는 것처럼 알리라는 말이야? 그렇게까지 해야 하는 게 더 상처 같은데?'},\n",
       " {'role': 'listener',\n",
       "  'text': '사람이 익숙해진 태도를 바꾸는 게 어려울 수가 있어. 이대로 투명인간 취급을 당하기보다는 적극적으로 자기의 존재를 어필하는 게 좋을 거라 생각해. 상처를 받았다는 것도 알리고 말이야.'},\n",
       " {'role': 'speaker', 'text': '그러면 뭔가 달라질까?'},\n",
       " {'role': 'listener',\n",
       "  'text': '헤어스타일을 바꾼 거를 알아채는 건 시작에 불과할 거야. 자기도 당당한 가족의 구성원이라는 걸 자기 가족이 알 필요가 있어. 나는 자기가 용기를 내어 이야기를 시작하면 가족들이 달라질 수 있을 거라 생각해.'},\n",
       " {'role': 'speaker', 'text': '그래, 그럼 언니한테 먼저 나 헤어스타일 바꿨다고 좀 봐달라고 말해볼까?'},\n",
       " {'role': 'listener',\n",
       "  'text': '그렇게 시작하는 것도 좋겠지. 스스로를 상처받게 두지 마, 자기. 자기가 얼마나 귀한 존재인지 가족들도 알고 그간의 홀대를 돌아보게 될 거야.'},\n",
       " {'role': 'speaker', 'text': '좋은 조언 고마워, 자기. 당장 오늘부터 그렇게 해볼게.'},\n",
       " {'role': 'listener',\n",
       "  'text': '내가 자기를 대단하게 생각하는 것처럼 다른 사람들도 생각했으면 좋겠어. 자기는 정말 멋지고 대단한 여자니까. 헤어스타일 바꾼 거 정말 잘 어울려, 곧 모두가 알게 될 거야. 힘내.'},\n",
       " {'role': 'speaker', 'text': '응, 알았어. 정말 고마워. 말해보고 또 연락할게.'}]"
      ]
     },
     "execution_count": 11,
     "metadata": {},
     "output_type": "execute_result"
    }
   ],
   "source": [
    "dataset['train']['conversations'][0]"
   ]
  },
  {
   "cell_type": "markdown",
   "metadata": {},
   "source": [
    "### Save as .json"
   ]
  },
  {
   "cell_type": "code",
   "execution_count": null,
   "metadata": {},
   "outputs": [],
   "source": [
    "with open(train_data, 'w', encoding='utf-8') as train_dict:\n",
    "    json.dump('ko-couple-chat.json', train_dict, ensure_ascii=False, indent=4)"
   ]
  }
 ],
 "metadata": {
  "kernelspec": {
   "display_name": "parsing",
   "language": "python",
   "name": "python3"
  },
  "language_info": {
   "codemirror_mode": {
    "name": "ipython",
    "version": 3
   },
   "file_extension": ".py",
   "mimetype": "text/x-python",
   "name": "python",
   "nbconvert_exporter": "python",
   "pygments_lexer": "ipython3",
   "version": "3.11.9"
  }
 },
 "nbformat": 4,
 "nbformat_minor": 2
}
